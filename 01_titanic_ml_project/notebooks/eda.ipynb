# 📌 Titanic EDA 초안

import pandas as pd
import seaborn as sns
import matplotlib.pyplot as plt

# 데이터 불러오기
df = pd.read_csv('data/train.csv')

# 데이터 구조 확인
print(df.info())

# 생존자 비율
print(df['Survived'].value_counts(normalize=True))

# 성별 생존률 비교
sex_survival = df.groupby('Sex')['Survived'].mean()
print(sex_survival)

# 시각화
sns.barplot(data=df, x='Sex', y='Survived')
plt.title("성별에 따른 생존률")
plt.show()
