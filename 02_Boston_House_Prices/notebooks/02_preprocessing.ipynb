{
 "cells": [
  {
   "cell_type": "code",
   "execution_count": 1,
   "id": "9c6261c2-0288-492d-9f1b-913a92376ef5",
   "metadata": {},
   "outputs": [],
   "source": [
    "import seaborn as sns\n",
    "import matplotlib.pyplot as plt  # 함께 쓰는 게 좋음\n",
    "import pandas as pd\n",
    "import numpy as np\n",
    "\n",
    "df = pd.read_csv(\"../data/boston.csv\")  # 파일 경로 확인 필수"
   ]
  },
  {
   "cell_type": "code",
   "execution_count": 2,
   "id": "3aa24a29-729c-495c-868a-98ae550c27e5",
   "metadata": {},
   "outputs": [],
   "source": [
    "# 로그 변환\n",
    "df['LOG_CRIM'] = np.log1p(df['CRIM'])\n",
    "df['LOG_LSTAT'] = np.log1p(df['LSTAT'])\n",
    "\n",
    "# CRIM 이상치 제거 (상위 1%)\n",
    "crim_cutoff = df['CRIM'].quantile(0.99)\n",
    "df = df[df['CRIM'] < crim_cutoff]\n"
   ]
  },
  {
   "cell_type": "code",
   "execution_count": 4,
   "id": "e5016c5f-402f-4738-b9f6-17e820e3765d",
   "metadata": {},
   "outputs": [],
   "source": [
    "df.to_csv(\"../outputs/boston_clean.csv\", index=False)"
   ]
  },
  {
   "cell_type": "code",
   "execution_count": 4,
   "id": "ed441808-9588-40bb-9f7d-d320a0a69fe1",
   "metadata": {},
   "outputs": [],
   "source": [
    "import pickle\n",
    "from sklearn.model_selection import train_test_split\n",
    "import seaborn as sns\n",
    "import matplotlib.pyplot as plt  # 함께 쓰는 게 좋음\n",
    "import pandas as pd\n",
    "import numpy as np\n",
    "\n",
    "df = pd.read_csv(\"../data/boston.csv\")  # 파일 경로 확인 필수\n",
    "\n",
    "# 전처리 완료된 DataFrame\n",
    "X = df.drop(\"MEDV\", axis=1)\n",
    "y = df[\"MEDV\"]\n",
    "\n",
    "X_train, X_test, y_train, y_test = train_test_split(X, y, test_size=0.2, random_state=42)\n",
    "\n",
    "# 저장\n",
    "pickle.dump(X_train, open(\"X_train.pkl\", \"wb\"))\n",
    "pickle.dump(X_test, open(\"X_test.pkl\", \"wb\"))\n",
    "pickle.dump(y_train, open(\"y_train.pkl\", \"wb\"))\n",
    "pickle.dump(y_test, open(\"y_test.pkl\", \"wb\"))"
   ]
  },
  {
   "cell_type": "code",
   "execution_count": null,
   "id": "43edd102-04e9-48ac-be02-1fc636c1baca",
   "metadata": {},
   "outputs": [],
   "source": []
  }
 ],
 "metadata": {
  "kernelspec": {
   "display_name": "Python 3 (ipykernel)",
   "language": "python",
   "name": "python3"
  },
  "language_info": {
   "codemirror_mode": {
    "name": "ipython",
    "version": 3
   },
   "file_extension": ".py",
   "mimetype": "text/x-python",
   "name": "python",
   "nbconvert_exporter": "python",
   "pygments_lexer": "ipython3",
   "version": "3.12.3"
  }
 },
 "nbformat": 4,
 "nbformat_minor": 5
}
