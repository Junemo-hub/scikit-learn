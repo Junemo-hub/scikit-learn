{
 "cells": [
  {
   "cell_type": "code",
   "execution_count": 4,
   "id": "72fe33aa-55b6-4b9f-bb51-f523257c241c",
   "metadata": {},
   "outputs": [
    {
     "name": "stdout",
     "output_type": "stream",
     "text": [
      "Best alpha: 100\n",
      "RMSE: 4.46\n",
      "R^2: 0.73\n"
     ]
    }
   ],
   "source": [
    "# 03b_modeling_ridge.ipynb\n",
    "\n",
    "import pickle\n",
    "import numpy as np\n",
    "import pandas as pd\n",
    "from sklearn.linear_model import Ridge\n",
    "from sklearn.metrics import mean_squared_error, r2_score\n",
    "from sklearn.model_selection import GridSearchCV\n",
    "\n",
    "# 데이터 불러오기 (예: pkl 또는 npy)\n",
    "import pickle\n",
    "\n",
    "with open(\"X_test.pkl\", \"rb\") as f:\n",
    "    X_train = pickle.load(f)\n",
    "with open(\"y_test.pkl\", \"rb\") as f:\n",
    "    y_train = pickle.load(f)\n",
    "\n",
    "\n",
    "# Ridge 모델 + 하이퍼파라미터 튜닝\n",
    "ridge = Ridge()\n",
    "params = {'alpha': [0.01, 0.1, 1, 10, 100]}\n",
    "grid = GridSearchCV(ridge, params, cv=5, scoring='neg_mean_squared_error')\n",
    "grid.fit(X_train, y_train)\n",
    "\n",
    "# 최고 모델 저장\n",
    "best_ridge = grid.best_estimator_\n",
    "\n",
    "with open(\"ridge_model.pkl\", \"wb\") as f:\n",
    "    pickle.dump(best_ridge, f)\n",
    "\n",
    "# 예측\n",
    "y_pred = best_ridge.predict(X_test)\n",
    "\n",
    "# 평가\n",
    "import numpy as np\n",
    "rmse = np.sqrt(mean_squared_error(y_test, y_pred))\n",
    "r2 = r2_score(y_test, y_pred)\n",
    "\n",
    "print(f\"Best alpha: {grid.best_params_['alpha']}\")\n",
    "print(f\"RMSE: {rmse:.2f}\")\n",
    "print(f\"R^2: {r2:.2f}\")\n",
    "\n",
    "# 결과 저장\n",
    "pd.DataFrame({\n",
    "    \"actual\": y_test,\n",
    "    \"predicted\": y_pred\n",
    "}).to_csv(\"predictions_ridge.csv\", index=False)\n"
   ]
  },
  {
   "cell_type": "code",
   "execution_count": 5,
   "id": "abccdb85-61ca-4f12-9ef4-ea4003ff5fd8",
   "metadata": {},
   "outputs": [
    {
     "name": "stdout",
     "output_type": "stream",
     "text": [
      "[-6.54861536e-02  1.14079410e-01  3.19932016e-02  1.20804204e-01\n",
      " -5.61685934e-02  3.05963556e-01  1.18527111e-02 -7.66255841e-01\n",
      "  3.40365461e-01 -1.94361280e-02 -8.01985415e-01 -3.34769681e-04\n",
      " -6.44929609e-01]\n",
      "49.10506493391819\n",
      "Best alpha: 100\n"
     ]
    }
   ],
   "source": [
    "# 계수 벡터 (weights)\n",
    "print(best_ridge.coef_)\n",
    "\n",
    "# 절편 (bias term)\n",
    "print(best_ridge.intercept_)\n",
    "\n",
    "print(f\"Best alpha: {grid.best_params_['alpha']}\")\n"
   ]
  },
  {
   "cell_type": "code",
   "execution_count": 6,
   "id": "e1213002-0bcb-4bbc-9d7f-e3eac14f8723",
   "metadata": {},
   "outputs": [
    {
     "name": "stdout",
     "output_type": "stream",
     "text": [
      "PTRATIO   -0.801985\n",
      "DIS       -0.766256\n",
      "LSTAT     -0.644930\n",
      "CRIM      -0.065486\n",
      "NOX       -0.056169\n",
      "TAX       -0.019436\n",
      "B         -0.000335\n",
      "AGE        0.011853\n",
      "INDUS      0.031993\n",
      "ZN         0.114079\n",
      "CHAS       0.120804\n",
      "RM         0.305964\n",
      "RAD        0.340365\n",
      "dtype: float64\n"
     ]
    }
   ],
   "source": [
    "import pandas as pd\n",
    "\n",
    "coefs = pd.Series(best_ridge.coef_, index=X_test.columns)\n",
    "coefs = coefs.sort_values()\n",
    "\n",
    "print(coefs)  # 표 형태로 계수 보기\n"
   ]
  },
  {
   "cell_type": "code",
   "execution_count": null,
   "id": "5b543d92-c79f-43ef-81d0-38da51509635",
   "metadata": {},
   "outputs": [],
   "source": []
  }
 ],
 "metadata": {
  "kernelspec": {
   "display_name": "Python 3 (ipykernel)",
   "language": "python",
   "name": "python3"
  },
  "language_info": {
   "codemirror_mode": {
    "name": "ipython",
    "version": 3
   },
   "file_extension": ".py",
   "mimetype": "text/x-python",
   "name": "python",
   "nbconvert_exporter": "python",
   "pygments_lexer": "ipython3",
   "version": "3.12.3"
  }
 },
 "nbformat": 4,
 "nbformat_minor": 5
}
