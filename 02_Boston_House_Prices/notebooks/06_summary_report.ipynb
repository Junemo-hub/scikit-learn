{
 "cells": [
  {
   "cell_type": "code",
   "execution_count": null,
   "id": "f9af0156-8696-4b1b-bdec-a3a9ca047e6a",
   "metadata": {},
   "outputs": [],
   "source": [
    "# 06_summary_report.ipynb\n",
    "\n",
    "# 📘 프로젝트 요약: Boston Housing Price Prediction\n",
    "\n",
    "\"이 프로젝트는 보스턴 집값 데이터를 기반으로 다양한 회귀 모델을 비교하고, 각 모델의 성능 및 변수 중요도를 분석하는 작업을 수행했습니다.\"\n",
    "\n",
    "## ✅ 1. 프로젝트 단계 요약\n",
    "\n",
    "- **01_eda.ipynb**: 데이터 분포 및 상관관계 분석\n",
    "- **02_preprocessing.ipynb**: 결측치/이상치 처리 및 스케일링 준비\n",
    "- **03a~03d_modeling**: Linear, Ridge, Lasso, RandomForest 학습 및 저장\n",
    "- **04a~04e_post_analysis**: 모델 평가, 성능 비교, 예측 vs 실제 시각화\n",
    "- **05_feature_analysis.ipynb**: 모델별 중요 변수 비교\n",
    "\n",
    "---\n",
    "\n",
    "## 🏆 2. 모델 성능 비교 (RMSE, R²)\n",
    "\n",
    "| Model         | RMSE    | R²     |\n",
    "|---------------|---------|--------|\n",
    "| Linear        | ~4.92   | ~0.67  |\n",
    "| Ridge         | ~4.46   | ~0.73  |\n",
    "| Lasso         | ~4.93   | ~0.67  |\n",
    "| Random Forest | ~2.81   | ~0.89  |\n",
    "\n",
    "🔍 **Random Forest가 가장 우수한 성능을 보였음.**\n",
    "\n",
    "---\n",
    "\n",
    "## 🔍 3. 변수 중요도 인사이트\n",
    "\n",
    "- 모든 모델에서 `RM`(방 수), `LSTAT`(저소득층 비율)은 공통적으로 중요한 변수\n",
    "- Ridge/Lasso는 정규화를 통해 **과적합 방지 + 변수 선택 기능** 제공\n",
    "- RandomForest는 **비선형 관계**까지 포착 가능 → `CRIM`, `NOX` 등도 중요하게 판단\n",
    "\n",
    "---\n",
    "\n",
    "## 📌 4. 다음에 할 수 있는 것\n",
    "\n",
    "- 🔬 SHAP 또는 LIME으로 개별 예측 설명 (선택)\n",
    "- 📊 Streamlit 대시보드 제작 (선택)\n",
    "- 🔁 교호작용 특성, 다항 회귀, 로그 변환 실험\n",
    "- 📄 PDF/PPT 요약 리포트 제작 (논리 구조 정리용)\n",
    "\n",
    "---\n",
    "\n",
    "## 🎓 5. 마무리 코멘트\n",
    "\n",
    "이 프로젝트는 **데이터 분석과 머신러닝 파이프라인**의 전형을 체험하기에 매우 좋은 예제입니다. \n",
    "- 실무적 사고: \"왜 Random Forest가 성능이 좋았을까?\"\n",
    "- 해석력: \"어떤 변수가 중요했고, 왜 그런가?\"\n",
    "- 확장성: \"이제 새로운 데이터를 넣는다면 어떻게 써먹을 수 있을까?\"\n"
   ]
  }
 ],
 "metadata": {
  "kernelspec": {
   "display_name": "Python 3 (ipykernel)",
   "language": "python",
   "name": "python3"
  },
  "language_info": {
   "codemirror_mode": {
    "name": "ipython",
    "version": 3
   },
   "file_extension": ".py",
   "mimetype": "text/x-python",
   "name": "python",
   "nbconvert_exporter": "python",
   "pygments_lexer": "ipython3",
   "version": "3.12.3"
  }
 },
 "nbformat": 4,
 "nbformat_minor": 5
}
